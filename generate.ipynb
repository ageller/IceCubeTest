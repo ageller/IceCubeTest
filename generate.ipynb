{
 "cells": [
  {
   "cell_type": "markdown",
   "metadata": {},
   "source": [
    "# Uniview module for IceCube event 170922A\n",
    "\n",
    "*Aaron Geller, 2018*\n",
    "\n",
    "### Imports and function definitions"
   ]
  },
  {
   "cell_type": "code",
   "execution_count": 32,
   "metadata": {},
   "outputs": [],
   "source": [
    "#This directory contains all the data needed for the module. It should be in the same directory as the notebook\n",
    "dataFolder = \"data\" \n",
    "import sys, os, shutil, errno, string, urllib\n",
    "\n",
    "\n",
    "sys.path.append(( os.path.abspath( os.path.join(os.path.realpath(\"__file__\"),  os.pardir, os.pardir) )))\n",
    "import uvmodlib.v1 as uvmod"
   ]
  },
  {
   "cell_type": "markdown",
   "metadata": {},
   "source": [
    "### USES Conf Template "
   ]
  },
  {
   "cell_type": "code",
   "execution_count": 96,
   "metadata": {},
   "outputs": [],
   "source": [
    "Template = \"\"\"mesh\n",
    "{  \n",
    "    #data  ICgeom ./modules/$folderName/IceCubeGeometry.uvstream\n",
    "    data ICgeom    ./modules/$folderName/IceCubeGeometry.raw\n",
    "\n",
    "    cullRadius $cr\n",
    "    glslVersion 330\n",
    "    \n",
    "    propertyCollection \n",
    "    {        \n",
    "        __objectName__\n",
    "        {           \n",
    "\n",
    "            vec1f geomRadius 10 | public | desc \"geometry point size \" | widget slider | range 0 20\n",
    "        }\n",
    "    }\n",
    "    pass\n",
    "    {\n",
    "        useDataObject ICgeom\n",
    "        shader\n",
    "        {\n",
    "            type defaultMeshShader\n",
    "            {\n",
    "                geometryShader   ./modules/$folderName/ICgeom.gs\n",
    "                vertexShader ./modules/$folderName/ICgeom.vs\n",
    "                fragmentShader   ./modules/$folderName/ICgeom.fs\n",
    "                #texture cmap ./modules/$folderName/cmap.png\n",
    "                #{             \n",
    "                #    wrapModeS GL_CLAMP_TO_EDGE\n",
    "                #    wrapModeR GL_CLAMP_TO_EDGE\n",
    "                #}\n",
    "                #parameter1f Scale $Scale\n",
    "                \n",
    "                stateManagerVar __objectName__.geomRadius  geomRadius\n",
    "                \n",
    "                glState\n",
    "                {\n",
    "                    UV_CULL_FACE_ENABLE false\n",
    "                    UV_BLEND_ENABLE true\n",
    "                    UV_DEPTH_ENABLE false\n",
    "                    UV_WRITE_MASK_DEPTH true\n",
    "                    UV_BLEND_FUNC GL_SRC_ALPHA GL_ONE_MINUS_SRC_ALPHA\n",
    "                }\n",
    "            }\n",
    "\n",
    "        }    \n",
    "    }\n",
    "    \n",
    "}\"\"\""
   ]
  },
  {
   "cell_type": "markdown",
   "metadata": {},
   "source": [
    "### UVStream for IceCubeGeometry"
   ]
  },
  {
   "cell_type": "code",
   "execution_count": 97,
   "metadata": {},
   "outputs": [],
   "source": [
    "ICG_UVSTREAM='''<?xml version=\"1.0\" encoding=\"UTF-8\" standalone=\"no\"?>\n",
    "<DataStream version=\"0.1\">\n",
    "    <PrimitiveType>line_strip</PrimitiveType>\n",
    "    <DataBindings>\n",
    "        <Variable>\n",
    "            <Name>vertex</Name>         \n",
    "            <Type>vec3f</Type>\n",
    "        </Variable>                        \n",
    "    </DataBindings>\n",
    "\n",
    "    <CSVData>\n",
    "        <Path>IceCubeGeometry.csv</Path>\n",
    "        <Headers>\n",
    "            <Variable>              \n",
    "                <Cols>0,1,2</Cols>\n",
    "            </Variable>                                       \n",
    "         </Headers>\n",
    "    </CSVData>\n",
    "</DataStream>  \n",
    "'''"
   ]
  },
  {
   "cell_type": "code",
   "execution_count": 98,
   "metadata": {},
   "outputs": [],
   "source": [
    "uvStreamFile=open('data/IceCubeGeometry.uvstream','w')\n",
    "uvStreamFile.write(ICG_UVSTREAM)\n",
    "uvStreamFile.close()"
   ]
  },
  {
   "cell_type": "markdown",
   "metadata": {},
   "source": [
    "### IceCube class"
   ]
  },
  {
   "cell_type": "code",
   "execution_count": 99,
   "metadata": {},
   "outputs": [],
   "source": [
    "class IceCube():\n",
    "    def __init__(self, object):\n",
    "        self.object = object\n",
    "        uvmod.Utility.ensurerelativepathexsists(\"ICgeom.gs\",dataFolder)\n",
    "        uvmod.Utility.ensurerelativepathexsists(\"ICgeom.vs\",dataFolder)\n",
    "        uvmod.Utility.ensurerelativepathexsists(\"ICgeom.fs\",dataFolder)\n",
    "        self.cr = 1000\n",
    "        self.Scale = 1\n",
    "\n",
    "    def generatemod(self):\n",
    "        self.object.setgeometry(self.object.name+\"Mesh.usesconf\")\n",
    "        return self.object.generatemod()\n",
    "    def generatefiles(self, absOutDir, relOutDir):\n",
    "        fileName = self.object.name+\"Mesh.usesconf\"\n",
    "        s = string.Template(Template)\n",
    "        f = open(absOutDir+\"\\\\\"+fileName, 'w')\n",
    "        if f:\n",
    "            f.write(s.substitute(folderName = relOutDir,\n",
    "                                 cr = self.cr,\n",
    "                                 Scale = self.Scale\n",
    "                                 ))\n",
    "            f.close()\n",
    "        uvmod.Utility.copyfoldercontents(os.getcwd()+\"\\\\\"+dataFolder, absOutDir)"
   ]
  },
  {
   "cell_type": "markdown",
   "metadata": {},
   "source": [
    "### Object Instantiation"
   ]
  },
  {
   "cell_type": "code",
   "execution_count": 100,
   "metadata": {},
   "outputs": [],
   "source": [
    "model = IceCube(uvmod.OrbitalObject())\n",
    "generator = uvmod.Generator()\n",
    "scene = uvmod.Scene()\n",
    "modinfo = uvmod.ModuleInformation()"
   ]
  },
  {
   "cell_type": "markdown",
   "metadata": {},
   "source": [
    "### Specify Settings and generate the module"
   ]
  },
  {
   "cell_type": "code",
   "execution_count": 101,
   "metadata": {},
   "outputs": [],
   "source": [
    "model.object.setcameraradius(10)\n",
    "model.object.setcoord(\"Earth\")\n",
    "model.object.setname(\"IceCube\")\n",
    "model.object.setguiname(\"/KavliLecture/Larson/IceCube\")\n",
    "model.object.settargetradius(20)\n",
    "model.object.showatstartup(False)\n",
    "model.cr = 10000\n",
    "modinfo.setname(\"IceCube\")\n",
    "modinfo.setauthor(\"Aaron Geller<sup>1</sup> and Shane Larson<sup>2</sup><br />(1)Adler Planetarium,br />(2)Northwestern University\")\n",
    "modinfo.cleardependencies()\n",
    "modinfo.setdesc(\"Uniview module for IceCube event 170922A\")\n",
    "#modinfo.setthumbnail(\"data/R0010133.JPG\")\n",
    "modinfo.setversion(\"1.0\")\n",
    "\n",
    "generator.generate(\"IceCube\",[],[model],modinfo)\n",
    "uvmod.Utility.senduvcommand(model.object.name+\".reload\")"
   ]
  },
  {
   "cell_type": "markdown",
   "metadata": {},
   "source": [
    "## Helper Functions for modifing code\n",
    "*Reload Module and Shaders in Uniview*"
   ]
  },
  {
   "cell_type": "code",
   "execution_count": 129,
   "metadata": {},
   "outputs": [],
   "source": [
    "uvmod.Utility.senduvcommand(model.object.name+\".reload; system.reloadallshaders\")"
   ]
  },
  {
   "cell_type": "markdown",
   "metadata": {},
   "source": [
    "*Copy modified Shader files and reload*"
   ]
  },
  {
   "cell_type": "code",
   "execution_count": 52,
   "metadata": {},
   "outputs": [],
   "source": [
    "from config import Settings\n"
   ]
  },
  {
   "cell_type": "code",
   "execution_count": 67,
   "metadata": {},
   "outputs": [],
   "source": [
    "uvmod.Utility.copyfoldercontents(os.getcwd()+\"\\\\\"+dataFolder, Settings.uvcustommodulelocation+'\\\\'+model.object.name)\n",
    "uvmod.Utility.senduvcommand(model.object.name+\".reload\")"
   ]
  },
  {
   "cell_type": "markdown",
   "metadata": {},
   "source": [
    "### Create colormap texture"
   ]
  },
  {
   "cell_type": "code",
   "execution_count": 21,
   "metadata": {},
   "outputs": [
    {
     "data": {
      "text/plain": [
       "<matplotlib.figure.Figure at 0x207a013f7f0>"
      ]
     },
     "metadata": {},
     "output_type": "display_data"
    }
   ],
   "source": [
    "import numpy as np\n",
    "import matplotlib.pyplot as plt\n",
    "from matplotlib import cm\n",
    "\n",
    "gradient = np.linspace(0, 1, 256)\n",
    "gradient = np.vstack((gradient, gradient))\n",
    "\n",
    "def plot_cmap(colormap):\n",
    "    fig=plt.imshow(gradient, aspect=1, cmap=colormap)\n",
    "    plt.axis('off')\n",
    "    fig.axes.get_xaxis().set_visible(False)\n",
    "    fig.axes.get_yaxis().set_visible(False)\n",
    "    plt.savefig(\"data/cmap.png\", bbox_inches='tight',pad_inches=0)\n",
    "\n",
    "plot_cmap('coolwarm')\n",
    "\n",
    "plt.show()"
   ]
  },
  {
   "cell_type": "code",
   "execution_count": null,
   "metadata": {
    "collapsed": true
   },
   "outputs": [],
   "source": []
  }
 ],
 "metadata": {
  "anaconda-cloud": {},
  "kernelspec": {
   "display_name": "Python 3",
   "language": "python",
   "name": "python3"
  },
  "language_info": {
   "codemirror_mode": {
    "name": "ipython",
    "version": 3
   },
   "file_extension": ".py",
   "mimetype": "text/x-python",
   "name": "python",
   "nbconvert_exporter": "python",
   "pygments_lexer": "ipython3",
   "version": "3.6.4"
  }
 },
 "nbformat": 4,
 "nbformat_minor": 1
}
